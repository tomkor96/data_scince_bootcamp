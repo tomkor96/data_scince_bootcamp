{
 "cells": [
  {
   "cell_type": "markdown",
   "metadata": {},
   "source": [
    "Lekkie wprowadzenie"
   ]
  },
  {
   "cell_type": "markdown",
   "metadata": {},
   "source": [
    "Przykład - dane dyskretne\n",
    "Populacja - grupa studentów (5 osób)\n",
    "Badana cecha X - ocena z egzaminu\n",
    "Realizacja zmiennej: 3, 4.5, 5, 4.5, 3"
   ]
  },
  {
   "cell_type": "code",
   "execution_count": 2,
   "metadata": {},
   "outputs": [
    {
     "name": "stdout",
     "output_type": "stream",
     "text": [
      "[3.  4.5 5.  4.5 3. ]\n"
     ]
    }
   ],
   "source": [
    "import numpy as np\n",
    "x = np.array([3, 4.5, 5, 4.5, 3])\n",
    "print(x)"
   ]
  },
  {
   "cell_type": "markdown",
   "metadata": {},
   "source": [
    "Przykład - dane ciągłe\n",
    "Populacja - grupa studentów (5 osób)\n",
    "Badana cecha X - wzrost\n",
    "Realizacja zmiennej: 185.0, 179.5, 168.0, 192.0, 185.5"
   ]
  },
  {
   "cell_type": "code",
   "execution_count": 4,
   "metadata": {},
   "outputs": [
    {
     "name": "stdout",
     "output_type": "stream",
     "text": [
      "[185.  179.5 168.  192.  185.5]\n"
     ]
    }
   ],
   "source": [
    "x = np.array([185.0, 179.5, 168.0, 192.0, 185.5])\n",
    "print(x)"
   ]
  },
  {
   "cell_type": "markdown",
   "metadata": {},
   "source": [
    "Statystyka opisowa - miary tendencji centralnej"
   ]
  },
  {
   "cell_type": "markdown",
   "metadata": {},
   "source": [
    "Średnia arytmetyczna"
   ]
  },
  {
   "cell_type": "code",
   "execution_count": 5,
   "metadata": {},
   "outputs": [
    {
     "data": {
      "text/plain": [
       "4.0"
      ]
     },
     "execution_count": 5,
     "metadata": {},
     "output_type": "execute_result"
    }
   ],
   "source": [
    "x = np.array([3, 4.5, 5, 4.5, 3])\n",
    "x.mean()"
   ]
  },
  {
   "cell_type": "markdown",
   "metadata": {},
   "source": [
    "Mediana - środkowy wyraz ciągu"
   ]
  },
  {
   "cell_type": "markdown",
   "metadata": {},
   "source": [
    "Mediana to środkowy wyraz w ciągu o nieparzystej liczbie elementów, a w przypadku ciągu o parzystej liczbie elementów jest to średnia arytmetyczna dwóch środkowych elementów ciągu"
   ]
  },
  {
   "cell_type": "code",
   "execution_count": 6,
   "metadata": {},
   "outputs": [
    {
     "data": {
      "text/plain": [
       "4.5"
      ]
     },
     "execution_count": 6,
     "metadata": {},
     "output_type": "execute_result"
    }
   ],
   "source": [
    "np.median(x)"
   ]
  },
  {
   "cell_type": "markdown",
   "metadata": {},
   "source": [
    "Moda / dominanta / wartość modalna"
   ]
  },
  {
   "cell_type": "markdown",
   "metadata": {},
   "source": [
    "Najczęściej pojawiająca się wartość w ciągu"
   ]
  },
  {
   "cell_type": "markdown",
   "metadata": {},
   "source": [
    "Statystyka - miary rozrzutu"
   ]
  },
  {
   "cell_type": "markdown",
   "metadata": {},
   "source": [
    "Średni błąd - średnia odległość od średniej"
   ]
  },
  {
   "cell_type": "code",
   "execution_count": 7,
   "metadata": {},
   "outputs": [
    {
     "name": "stdout",
     "output_type": "stream",
     "text": [
      "X_mean:  3.833333\n",
      "Y_mean:  3.666667\n"
     ]
    }
   ],
   "source": [
    "X = [3.5, 4.0, 4.0]\n",
    "Y = [2.0, 4.0, 5.0]\n",
    "\n",
    "X_mean = np.mean(X)\n",
    "Y_mean = np.mean(Y)\n",
    "\n",
    "print(f'X_mean: {X_mean: 4f}')\n",
    "print(f'Y_mean: {Y_mean: 4f}')"
   ]
  },
  {
   "cell_type": "code",
   "execution_count": 8,
   "metadata": {},
   "outputs": [
    {
     "name": "stdout",
     "output_type": "stream",
     "text": [
      "Średni błąd X:  0.222222\n",
      "Średni błąd Y:  1.111111\n"
     ]
    }
   ],
   "source": [
    "b_X = 1 / len(X) * (abs(X - X_mean).sum())\n",
    "b_Y = 1 / len(Y) * (abs(Y - Y_mean).sum())\n",
    "\n",
    "print(f'Średni błąd X: {b_X: 4f}')\n",
    "print(f'Średni błąd Y: {b_Y: 4f}')"
   ]
  },
  {
   "cell_type": "markdown",
   "metadata": {},
   "source": [
    "Wariancja - podobna do średniego błędu, jest to średni błąd podniesiony do kwadratu"
   ]
  },
  {
   "cell_type": "code",
   "execution_count": 18,
   "metadata": {},
   "outputs": [
    {
     "name": "stdout",
     "output_type": "stream",
     "text": [
      "Wariancja X:  0.0556\n",
      "Wariancja Y:  1.5556\n",
      "\n",
      "Odchylenie standardowe zmiennej X:  0.2357\n",
      "Odchylenie standardowe zmiennej Y:  1.2472\n"
     ]
    }
   ],
   "source": [
    "var_X = 1 / len(X) * ((X - X_mean)**2).sum()\n",
    "var_Y = 1 / len(Y) * ((Y - Y_mean)**2).sum()\n",
    "\n",
    "print(f'Wariancja X: {var_X: .4f}')\n",
    "print(f'Wariancja Y: {var_Y: .4f}\\n')\n",
    "\n",
    "std_X = np.sqrt(var_X)\n",
    "std_Y = np.sqrt(var_Y)\n",
    "\n",
    "print(f'Odchylenie standardowe zmiennej X: {std_X: .4f}')\n",
    "print(f'Odchylenie standardowe zmiennej Y: {std_Y: .4f}')"
   ]
  },
  {
   "cell_type": "code",
   "execution_count": 20,
   "metadata": {},
   "outputs": [
    {
     "name": "stdout",
     "output_type": "stream",
     "text": [
      "0.23570226039551584\n",
      "1.247219128924647\n"
     ]
    }
   ],
   "source": [
    "print(np.std(X))\n",
    "print(np.std(Y))"
   ]
  },
  {
   "cell_type": "markdown",
   "metadata": {},
   "source": [
    "Dystrybuanta empiryczna"
   ]
  },
  {
   "cell_type": "markdown",
   "metadata": {},
   "source": [
    "Prawdopodobieństwo"
   ]
  },
  {
   "cell_type": "code",
   "execution_count": 7,
   "metadata": {},
   "outputs": [
    {
     "name": "stdout",
     "output_type": "stream",
     "text": [
      "Zbiór A: {2, 4, 6}\n",
      "Prawdopodobieństwo zdarzenia A: 0.5\n"
     ]
    }
   ],
   "source": [
    "omega = {1, 2, 3, 4, 5, 6}\n",
    "\n",
    "A = {item for item in omega if item % 2 == 0}\n",
    "\n",
    "P_A = len(A) / len(omega)\n",
    "\n",
    "print(f'Zbiór A: {A}')\n",
    "print(f'Prawdopodobieństwo zdarzenia A: {P_A}')"
   ]
  },
  {
   "cell_type": "code",
   "execution_count": 6,
   "metadata": {},
   "outputs": [
    {
     "name": "stdout",
     "output_type": "stream",
     "text": [
      "Zbiór B:{5, 6}\n",
      "Prawdopodobieństwo zdarzenia B: 0.3333333333333333\n"
     ]
    }
   ],
   "source": [
    "B = {item for item in omega if item > 4}\n",
    "P_B = len(B) / len(omega)\n",
    "\n",
    "print(f'Zbiór B:{B}')\n",
    "print(f'Prawdopodobieństwo zdarzenia B: {P_B}')"
   ]
  },
  {
   "cell_type": "markdown",
   "metadata": {},
   "source": [
    "Niezależność zdarzeń"
   ]
  },
  {
   "cell_type": "code",
   "execution_count": 9,
   "metadata": {},
   "outputs": [
    {
     "name": "stdout",
     "output_type": "stream",
     "text": [
      "Przecięcie zbiorów A i B {6}\n",
      "\n",
      "Iloczyn prawdopodobieńst zdarzeń A i B: 0.1667\n",
      "Prawdopodobieństwo iloczynu zdarzeń A i B: 0.1667\n",
      "\n",
      "Zdarzenie niezależne\n"
     ]
    }
   ],
   "source": [
    "interection_AB = set.intersection(A, B)\n",
    "P_intersection_AB = len(interection_AB) / len(omega)\n",
    "\n",
    "PA_PB = P_A * P_B\n",
    "print(f'Przecięcie zbiorów A i B {interection_AB}\\n')\n",
    "print(f'Iloczyn prawdopodobieńst zdarzeń A i B: {PA_PB:.4f}')\n",
    "print(f'Prawdopodobieństwo iloczynu zdarzeń A i B: {P_intersection_AB:.4f}\\n')\n",
    "\n",
    "check = 'Zdarzenie niezależne' if PA_PB == P_intersection_AB else 'Zdarzenie zależne'\n",
    "print(check)"
   ]
  },
  {
   "cell_type": "markdown",
   "metadata": {},
   "source": [
    "Prawdopodobieństwo warunkowe"
   ]
  },
  {
   "cell_type": "code",
   "execution_count": 10,
   "metadata": {},
   "outputs": [
    {
     "name": "stdout",
     "output_type": "stream",
     "text": [
      "A: {2, 4, 6}\n",
      "B: {5, 6}\n",
      "Pzecięcie A i B: {6}\n"
     ]
    }
   ],
   "source": [
    "print(f'A: {A}')\n",
    "print(f'B: {B}')\n",
    "print(f'Pzecięcie A i B: {set.intersection(A, B)}')"
   ]
  },
  {
   "cell_type": "code",
   "execution_count": 11,
   "metadata": {},
   "outputs": [
    {
     "name": "stdout",
     "output_type": "stream",
     "text": [
      "Prawdopodobieństwo wylosowania liczby parzystej pod warunkeim, że wylosowaliśmy liczbę większą niż 4 wynosi: 0.5\n"
     ]
    }
   ],
   "source": [
    "PA_cond_B = P_intersection_AB / P_B\n",
    "\n",
    "print(f'Prawdopodobieństwo wylosowania liczby parzystej pod warunkeim, że wylosowaliśmy liczbę większą niż 4 wynosi: {PA_cond_B}')"
   ]
  },
  {
   "cell_type": "markdown",
   "metadata": {},
   "source": [
    "Zmienna losowa"
   ]
  },
  {
   "cell_type": "markdown",
   "metadata": {},
   "source": [
    "Wartość oczekiwana - średnia ważona prawdopodobieństwem"
   ]
  },
  {
   "cell_type": "code",
   "execution_count": 1,
   "metadata": {},
   "outputs": [
    {
     "data": {
      "text/plain": [
       "0.75"
      ]
     },
     "execution_count": 1,
     "metadata": {},
     "output_type": "execute_result"
    }
   ],
   "source": [
    "EX = 0 * 0.5 + 1 * 0.3 + 2 * 0.15 + 3 * 0.05 # szkody: 0.5 kiwrowców ma 0 szkód, 1 szkodę ma 0.3 kierowców itd.\n",
    "EX # średnio 1 kierowca generuje taką szkodowość"
   ]
  },
  {
   "cell_type": "code",
   "execution_count": 2,
   "metadata": {},
   "outputs": [
    {
     "data": {
      "text/plain": [
       "0.7875000000000001"
      ]
     },
     "execution_count": 2,
     "metadata": {},
     "output_type": "execute_result"
    }
   ],
   "source": [
    "VAR_X = (0 - EX)**2 * 0.5 + (1 - EX)**2 * 0.3 + (2 - EX)**2 * 0.15 + (3 - EX)**2 * 0.05\n",
    "VAR_X"
   ]
  },
  {
   "cell_type": "code",
   "execution_count": 3,
   "metadata": {},
   "outputs": [
    {
     "data": {
      "text/plain": [
       "0.8874119674649424"
      ]
     },
     "execution_count": 3,
     "metadata": {},
     "output_type": "execute_result"
    }
   ],
   "source": [
    "import numpy as np\n",
    "STD_X = np.sqrt(VAR_X)\n",
    "STD_X # klient robi EX zdarzenia na rok z odchyleniem STD_X"
   ]
  },
  {
   "cell_type": "code",
   "execution_count": 11,
   "metadata": {},
   "outputs": [
    {
     "name": "stdout",
     "output_type": "stream",
     "text": [
      "[ 1.75885306 -1.71243944  1.29541128 -1.48453876  2.23856926]\n",
      "[1.99584613 0.40340998 0.72491155 0.37398662 1.19224788]\n"
     ]
    }
   ],
   "source": [
    "x = np.random.randn(5)\n",
    "y = np.random.randn(5)\n",
    "\n",
    "print(x)\n",
    "print(y)"
   ]
  },
  {
   "cell_type": "code",
   "execution_count": 12,
   "metadata": {},
   "outputs": [
    {
     "data": {
      "text/plain": [
       "0.41917108135872994"
      ]
     },
     "execution_count": 12,
     "metadata": {},
     "output_type": "execute_result"
    }
   ],
   "source": [
    "x.mean()"
   ]
  },
  {
   "cell_type": "code",
   "execution_count": 13,
   "metadata": {},
   "outputs": [
    {
     "data": {
      "text/plain": [
       "1.6757463426616002"
      ]
     },
     "execution_count": 13,
     "metadata": {},
     "output_type": "execute_result"
    }
   ],
   "source": [
    "x.std()"
   ]
  },
  {
   "cell_type": "code",
   "execution_count": 14,
   "metadata": {},
   "outputs": [
    {
     "data": {
      "text/plain": [
       "array([[1.        , 0.77000275],\n",
       "       [0.77000275, 1.        ]])"
      ]
     },
     "execution_count": 14,
     "metadata": {},
     "output_type": "execute_result"
    }
   ],
   "source": [
    "np.corrcoef(x, y)"
   ]
  },
  {
   "cell_type": "markdown",
   "metadata": {},
   "source": [
    "Rozkład normalny SciPy"
   ]
  },
  {
   "cell_type": "code",
   "execution_count": 17,
   "metadata": {},
   "outputs": [
    {
     "data": {
      "image/png": "[encoded data removed]",
      "text/plain": [
       "<Figure size 640x480 with 1 Axes>"
      ]
     },
     "metadata": {},
     "output_type": "display_data"
    }
   ],
   "source": [
    "import matplotlib.pyplot as plt\n",
    "import seaborn as sns\n",
    "from scipy.stats import norm\n",
    "sns.set()\n",
    "mu = 0 # średnia\n",
    "sigma = 1 # odchylenie standardowe\n",
    "x = np.linspace(mu - 3 * sigma, mu + 3 * sigma, 100)\n",
    "plt.title('Rozkład normalny - funkcja gęstości')\n",
    "_ = plt.plot(x, norm.pdf(x, mu, sigma))\n"
   ]
  },
  {
   "cell_type": "markdown",
   "metadata": {},
   "source": []
  }
 ],
 "metadata": {
  "kernelspec": {
   "display_name": "data_venv",
   "language": "python",
   "name": "python3"
  },
  "language_info": {
   "codemirror_mode": {
    "name": "ipython",
    "version": 3
   },
   "file_extension": ".py",
   "mimetype": "text/x-python",
   "name": "python",
   "nbconvert_exporter": "python",
   "pygments_lexer": "ipython3",
   "version": "3.11.8"
  }
 },
 "nbformat": 4,
 "nbformat_minor": 2
}
