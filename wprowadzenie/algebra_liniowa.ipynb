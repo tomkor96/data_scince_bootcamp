{
  "nbformat": 4,
  "nbformat_minor": 0,
  "metadata": {
    "colab": {
      "provenance": [],
      "authorship_tag": "ABX9TyOCBiWhMFBR2hrLWR6BwzbP",
      "include_colab_link": true
    },
    "kernelspec": {
      "name": "python3",
      "display_name": "Python 3"
    },
    "language_info": {
      "name": "python"
    }
  },
  "cells": [
    {
      "cell_type": "markdown",
      "metadata": {
        "id": "view-in-github",
        "colab_type": "text"
      },
      "source": [
        "<a href=\"https://colab.research.google.com/github/tomkor96/data_scince_bootcamp/blob/main/wprowadzenie/algebra_liniowa.ipynb\" target=\"_parent\"><img src=\"https://colab.research.google.com/assets/colab-badge.svg\" alt=\"Open In Colab\"/></a>"
      ]
    },
    {
      "cell_type": "markdown",
      "source": [
        "Norma wektora, długość wektora w R2"
      ],
      "metadata": {
        "id": "H2iivveEi1u4"
      }
    },
    {
      "cell_type": "code",
      "execution_count": 2,
      "metadata": {
        "colab": {
          "base_uri": "https://localhost:8080/"
        },
        "id": "nfRTUtABcp0U",
        "outputId": "420c998d-f13d-4a9c-b5fd-e45e320d2b19"
      },
      "outputs": [
        {
          "output_type": "execute_result",
          "data": {
            "text/plain": [
              "array([-1,  4])"
            ]
          },
          "metadata": {},
          "execution_count": 2
        }
      ],
      "source": [
        "import numpy as np\n",
        "v1 = np.array([-1, 4])\n",
        "v1"
      ]
    },
    {
      "cell_type": "code",
      "source": [
        "np.linalg.norm(v1) # linalg - algebra liniowa\n",
        "# norm - norma wektora tj. odległość od środka układu współrzędnych"
      ],
      "metadata": {
        "colab": {
          "base_uri": "https://localhost:8080/"
        },
        "id": "K3bdjnbjjC43",
        "outputId": "634ca00d-51f4-4798-fc73-23bf227002d6"
      },
      "execution_count": null,
      "outputs": [
        {
          "output_type": "execute_result",
          "data": {
            "text/plain": [
              "4.123105625617661"
            ]
          },
          "metadata": {},
          "execution_count": 6
        }
      ]
    },
    {
      "cell_type": "markdown",
      "source": [
        "Norma euklidesowa"
      ],
      "metadata": {
        "id": "g7Ql1Pmij-RK"
      }
    },
    {
      "cell_type": "code",
      "source": [
        "v2 = np.array([-10, 10, 13]) # przestrzeń trójwymiarowa\n",
        "np.linalg.norm(v2) # odległość względem środka układu współrzędnych"
      ],
      "metadata": {
        "colab": {
          "base_uri": "https://localhost:8080/"
        },
        "id": "oieBUHhBjPTA",
        "outputId": "45940ddb-699d-415e-8f28-a6e60c6e2e27"
      },
      "execution_count": null,
      "outputs": [
        {
          "output_type": "execute_result",
          "data": {
            "text/plain": [
              "19.209372712298546"
            ]
          },
          "metadata": {},
          "execution_count": 9
        }
      ]
    },
    {
      "cell_type": "markdown",
      "source": [
        "Odległość dwóch punktów na płaszczyźnie"
      ],
      "metadata": {
        "id": "cDFOug8Zka0i"
      }
    },
    {
      "cell_type": "code",
      "source": [
        "p = np.array([3, 0])\n",
        "q = np.array([0, 4])\n",
        "\n",
        "np.linalg.norm(p - q)"
      ],
      "metadata": {
        "colab": {
          "base_uri": "https://localhost:8080/"
        },
        "id": "F6NZDKxjkLT6",
        "outputId": "8fe65c28-53dd-4992-c461-57270daec77e"
      },
      "execution_count": null,
      "outputs": [
        {
          "output_type": "execute_result",
          "data": {
            "text/plain": [
              "5.0"
            ]
          },
          "metadata": {},
          "execution_count": 8
        }
      ]
    },
    {
      "cell_type": "code",
      "source": [
        "p = np.array([3, 0, 1])\n",
        "q = np.array([0, 4, 2])\n",
        "\n",
        "np.linalg.norm(p - q) # odległość punktów od siebie w przestrzeni 3D"
      ],
      "metadata": {
        "colab": {
          "base_uri": "https://localhost:8080/"
        },
        "id": "6MqBSHoAkuMZ",
        "outputId": "181f8cc7-7365-4db0-bb3e-5812d9ea1113"
      },
      "execution_count": null,
      "outputs": [
        {
          "output_type": "execute_result",
          "data": {
            "text/plain": [
              "5.0990195135927845"
            ]
          },
          "metadata": {},
          "execution_count": 10
        }
      ]
    },
    {
      "cell_type": "markdown",
      "source": [
        "Mnożenie macierzy - przydatne przy sieciach neuronowych i uczeniu maszynowym"
      ],
      "metadata": {
        "id": "r3RDxTGSlwIz"
      }
    },
    {
      "cell_type": "code",
      "source": [
        " X = np.array([[5, 3], [3, 9]]) # wymiar 2 x 2\n",
        " Y = np. array([[1], [-1]]) # wymair 2 x 1 - wiersze x kolumny\n",
        "\n",
        "# mnożenie można wykonywać tylko wyedy, kiedy liczba kolumn lewej maierzy jest równa liczbie wierszy prawej macierzy\n",
        "# macierz wynikowa będzie miała rozmiar wiersze lewej macierzy # kolumny prawej macierzy\n",
        "# w tym przypadku 2 x 1\n",
        "\n",
        "print(X, '\\n')\n",
        "print(Y)"
      ],
      "metadata": {
        "colab": {
          "base_uri": "https://localhost:8080/"
        },
        "id": "MMnBaNhWlh5s",
        "outputId": "ee49dd17-8bd4-4017-d53b-97271ee22a99"
      },
      "execution_count": null,
      "outputs": [
        {
          "output_type": "stream",
          "name": "stdout",
          "text": [
            "[[5 3]\n",
            " [3 9]] \n",
            "\n",
            "[[ 1]\n",
            " [-1]]\n"
          ]
        }
      ]
    },
    {
      "cell_type": "code",
      "source": [
        "Z = np.dot(X, Y) # mnożenie macierzy\n",
        "Z"
      ],
      "metadata": {
        "colab": {
          "base_uri": "https://localhost:8080/"
        },
        "id": "GI07r7S4nl1J",
        "outputId": "5b8542d9-985d-4bf1-e4d3-54baae875871"
      },
      "execution_count": null,
      "outputs": [
        {
          "output_type": "execute_result",
          "data": {
            "text/plain": [
              "array([[ 2],\n",
              "       [-6]])"
            ]
          },
          "metadata": {},
          "execution_count": 17
        }
      ]
    },
    {
      "cell_type": "markdown",
      "source": [
        "Wyznacznik macierzy - liczymy go tylko dla macierzy o równej liczbie wierszy i kolumn"
      ],
      "metadata": {
        "id": "e69MLSZ9o9Ra"
      }
    },
    {
      "cell_type": "code",
      "source": [
        "# macierz kwadratowa to taka macierz, której liczba wierszy = liczbie kolumn"
      ],
      "metadata": {
        "id": "eCHGAAcdnwC8"
      },
      "execution_count": null,
      "outputs": []
    },
    {
      "cell_type": "code",
      "source": [
        "A = np.array([[2, 4], [-1, 3]])\n",
        "np.linalg.det(A) wyznacznik macierzy"
      ],
      "metadata": {
        "colab": {
          "base_uri": "https://localhost:8080/"
        },
        "id": "29MQQB_bpQi5",
        "outputId": "08c9d8ce-4f18-4519-ecf9-c9cb517241b8"
      },
      "execution_count": null,
      "outputs": [
        {
          "output_type": "execute_result",
          "data": {
            "text/plain": [
              "9.999999999999998"
            ]
          },
          "metadata": {},
          "execution_count": 20
        }
      ]
    },
    {
      "cell_type": "markdown",
      "source": [
        "Ślad macierzy"
      ],
      "metadata": {
        "id": "19j7GDxrqXjQ"
      }
    },
    {
      "cell_type": "code",
      "source": [
        "# suma elementów na przekątnej\n",
        "np.trace(A)"
      ],
      "metadata": {
        "colab": {
          "base_uri": "https://localhost:8080/"
        },
        "id": "p6rna5uIp788",
        "outputId": "1a79d53a-23af-4ba0-feea-ca435c5dadc4"
      },
      "execution_count": null,
      "outputs": [
        {
          "output_type": "execute_result",
          "data": {
            "text/plain": [
              "5"
            ]
          },
          "metadata": {},
          "execution_count": 21
        }
      ]
    },
    {
      "cell_type": "markdown",
      "source": [
        "Macierz jednostkowa"
      ],
      "metadata": {
        "id": "9nhZd1mvrOBJ"
      }
    },
    {
      "cell_type": "markdown",
      "source": [
        "Macierz jednostkowa to specjalny rodzaj macierzy kwadratowej, która ma jedynki na głównej przekątnej (od lewego górnego do prawego dolnego rogu) i zera we wszystkich pozostałych miejscach. Oznaczana jako I\n"
      ],
      "metadata": {
        "id": "0VG3AceHr1mo"
      }
    },
    {
      "cell_type": "code",
      "source": [
        "np.eye(5, dtype='int')"
      ],
      "metadata": {
        "colab": {
          "base_uri": "https://localhost:8080/"
        },
        "id": "Ah8qCDc9rMmc",
        "outputId": "cb470608-9518-472f-f594-6dd14d2620fa"
      },
      "execution_count": null,
      "outputs": [
        {
          "output_type": "execute_result",
          "data": {
            "text/plain": [
              "array([[1, 0, 0, 0, 0],\n",
              "       [0, 1, 0, 0, 0],\n",
              "       [0, 0, 1, 0, 0],\n",
              "       [0, 0, 0, 1, 0],\n",
              "       [0, 0, 0, 0, 1]])"
            ]
          },
          "metadata": {},
          "execution_count": 22
        }
      ]
    },
    {
      "cell_type": "code",
      "source": [
        "np.eye(3)"
      ],
      "metadata": {
        "colab": {
          "base_uri": "https://localhost:8080/"
        },
        "id": "HkEKI58BrXVW",
        "outputId": "9c9caab2-5a66-46f0-c057-f5a377418859"
      },
      "execution_count": null,
      "outputs": [
        {
          "output_type": "execute_result",
          "data": {
            "text/plain": [
              "array([[1., 0., 0.],\n",
              "       [0., 1., 0.],\n",
              "       [0., 0., 1.]])"
            ]
          },
          "metadata": {},
          "execution_count": 23
        }
      ]
    },
    {
      "cell_type": "markdown",
      "source": [
        "Macierz odwrotna"
      ],
      "metadata": {
        "id": "HZfWjwP3rb2c"
      }
    },
    {
      "cell_type": "code",
      "source": [
        "# może być tylko kwadratowa\n",
        "# AB = BA = I"
      ],
      "metadata": {
        "id": "Wdv4Uic9rbGR"
      },
      "execution_count": null,
      "outputs": []
    },
    {
      "cell_type": "code",
      "source": [
        "B = np.linalg.inv(A)\n",
        "B"
      ],
      "metadata": {
        "colab": {
          "base_uri": "https://localhost:8080/"
        },
        "id": "qhggkmmbrgD1",
        "outputId": "b5e133fd-14de-4684-e40f-dca82b796231"
      },
      "execution_count": null,
      "outputs": [
        {
          "output_type": "execute_result",
          "data": {
            "text/plain": [
              "array([[ 0.3, -0.4],\n",
              "       [ 0.1,  0.2]])"
            ]
          },
          "metadata": {},
          "execution_count": 27
        }
      ]
    },
    {
      "cell_type": "code",
      "source": [
        "np.set_printoptions(precision=4, suppress=True)\n",
        "np.dot(B, A)"
      ],
      "metadata": {
        "colab": {
          "base_uri": "https://localhost:8080/"
        },
        "id": "pQ62XqlEsHab",
        "outputId": "ad0d9044-bf90-4c76-df63-61ed966a9de1"
      },
      "execution_count": null,
      "outputs": [
        {
          "output_type": "execute_result",
          "data": {
            "text/plain": [
              "array([[ 1., -0.],\n",
              "       [ 0.,  1.]])"
            ]
          },
          "metadata": {},
          "execution_count": 30
        }
      ]
    },
    {
      "cell_type": "markdown",
      "source": [
        "Macierz transponowana - zamiana kolumny na wierze i wierszy na kolumny"
      ],
      "metadata": {
        "id": "8mTDx0P7spSW"
      }
    },
    {
      "cell_type": "code",
      "source": [
        "A"
      ],
      "metadata": {
        "colab": {
          "base_uri": "https://localhost:8080/"
        },
        "id": "bx9h3cVcsRbz",
        "outputId": "aa071d01-44c5-4875-8b37-d5385b25c01b"
      },
      "execution_count": null,
      "outputs": [
        {
          "output_type": "execute_result",
          "data": {
            "text/plain": [
              "array([[ 2,  4],\n",
              "       [-1,  3]])"
            ]
          },
          "metadata": {},
          "execution_count": 31
        }
      ]
    },
    {
      "cell_type": "code",
      "source": [
        "np.transpose(A)"
      ],
      "metadata": {
        "colab": {
          "base_uri": "https://localhost:8080/"
        },
        "id": "1TlV901Sszxe",
        "outputId": "85672754-1b2c-488b-e9a7-a7a7af2b2ec8"
      },
      "execution_count": null,
      "outputs": [
        {
          "output_type": "execute_result",
          "data": {
            "text/plain": [
              "array([[ 2, -1],\n",
              "       [ 4,  3]])"
            ]
          },
          "metadata": {},
          "execution_count": 32
        }
      ]
    },
    {
      "cell_type": "markdown",
      "source": [
        "Rozwiązywanie układów równań"
      ],
      "metadata": {
        "id": "aL_rEDd-jVBL"
      }
    },
    {
      "cell_type": "code",
      "source": [
        "A = np.array([[2, 4], [1, -1]]) # macierz współczynników\n",
        "A"
      ],
      "metadata": {
        "id": "DQeiTdnLs35B",
        "colab": {
          "base_uri": "https://localhost:8080/"
        },
        "outputId": "b8b63e0b-08ea-4898-a207-a2ef8675bd7e"
      },
      "execution_count": 4,
      "outputs": [
        {
          "output_type": "execute_result",
          "data": {
            "text/plain": [
              "array([[ 2,  4],\n",
              "       [ 1, -1]])"
            ]
          },
          "metadata": {},
          "execution_count": 4
        }
      ]
    },
    {
      "cell_type": "code",
      "source": [
        "B = np.array([[10], [-1]]) # macierz wyrazów wolnych, więcej info https://github.com/krakowiakpawel9/data-science-bootcamp/blob/84c700a7c6ebe1ed02dc0a103e0fd8b2cbfb28c1/01_wprowadzenie/02_algebra_liniowa.ipynb\n",
        "B"
      ],
      "metadata": {
        "colab": {
          "base_uri": "https://localhost:8080/"
        },
        "id": "0-RISMy4jwQH",
        "outputId": "18bbcb47-cc63-41c2-8581-d6f72b2aa8c8"
      },
      "execution_count": 5,
      "outputs": [
        {
          "output_type": "execute_result",
          "data": {
            "text/plain": [
              "array([[10],\n",
              "       [-1]])"
            ]
          },
          "metadata": {},
          "execution_count": 5
        }
      ]
    },
    {
      "cell_type": "code",
      "source": [
        "A_inv = np.linalg.inv(A)\n",
        "X = np.dot(A_inv, B)\n",
        "X.shape"
      ],
      "metadata": {
        "colab": {
          "base_uri": "https://localhost:8080/"
        },
        "id": "h7o8mmC_kB4-",
        "outputId": "139f1f0f-7ccd-4d65-bee7-8912e173e818"
      },
      "execution_count": 7,
      "outputs": [
        {
          "output_type": "execute_result",
          "data": {
            "text/plain": [
              "(2, 1)"
            ]
          },
          "metadata": {},
          "execution_count": 7
        }
      ]
    }
  ]
}